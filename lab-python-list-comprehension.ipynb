{
 "cells": [
  {
   "cell_type": "markdown",
   "id": "25d7736c-ba17-4aff-b6bb-66eba20fbf4e",
   "metadata": {},
   "source": [
    "# Lab | List, Dict and Set Comprehension"
   ]
  },
  {
   "cell_type": "markdown",
   "id": "7dd3cbde-675a-4b81-92c3-f728846dbe06",
   "metadata": {},
   "source": [
    "## Exercise: Managing Customer Orders Optimized with Comprehension"
   ]
  },
  {
   "cell_type": "markdown",
   "id": "5d500160-2fb7-4777-b5e4-09d45ebaf328",
   "metadata": {},
   "source": [
    "In the previous exercise, you developed a program to manage customer orders and inventory. Now, let's take it a step further and incorporate comprehension into your code.\n",
    "\n",
    "Follow the steps below to complete the exercise:\n",
    "\n",
    "1. Review your code from the previous exercise and identify areas where you can apply comprehension to simplify and streamline your code. \n",
    "\n",
    "    - *Hint: Apply it to initialize inventory, updating the inventory and printing the updated inventory.*\n",
    "    \n",
    "    - For example, in initializing the inventory, we could have:\n",
    "    \n",
    "        ```python\n",
    "        def initialize_inventory(products):\n",
    "            inventory = {product: int(input(f\"Enter the quantity of {product}s available: \")) for product in products}\n",
    "            return inventory\n",
    "\n",
    "        ```\n",
    "<br>\n",
    "    \n",
    "    \n",
    "2. Modify the function get_customer_orders so it prompts the user to enter the number of customer orders and gathers the product names using a loop and user input. Use comprehension.\n",
    "\n",
    "3. Add a new function to calculate the total price of the customer order. For each product in customer_orders, prompt the user to enter the price of that product. Use comprehension to calculate the total price. Note: assume that the user can only have 1 unit of each product.\n",
    "\n",
    "4. Modify the update_inventory function to remove the product from the inventory if its quantity becomes zero after fulfilling the customer orders. Use comprehension to filter out the products with a quantity of zero from the inventory.\n",
    "\n",
    "5. Print the total price of the customer order.\n",
    "\n",
    "Your code should produce output similar to the following:\n",
    "\n",
    "```python\n",
    "Enter the quantity of t-shirts available:  5\n",
    "Enter the quantity of mugs available:  4\n",
    "Enter the quantity of hats available:  3\n",
    "Enter the quantity of books available:  2\n",
    "Enter the quantity of keychains available:  1\n",
    "Enter the number of customer orders:  2\n",
    "Enter the name of a product that a customer wants to order:  hat\n",
    "Enter the name of a product that a customer wants to order:  keychain\n",
    "\n",
    "Order Statistics:\n",
    "Total Products Ordered: 2\n",
    "Percentage of Unique Products Ordered: 40.0\n",
    "\n",
    "Updated Inventory:\n",
    "t-shirt: 5\n",
    "mug: 4\n",
    "hat: 2\n",
    "book: 2\n",
    "Enter the price of keychain:  5\n",
    "Enter the price of hat:  10\n",
    "Total Price: 15.0\n",
    "\n",
    "```\n"
   ]
  },
  {
   "cell_type": "code",
   "execution_count": 1,
   "id": "c178ab08-dfb6-43ed-b39a-c7bdbbe34c43",
   "metadata": {},
   "outputs": [],
   "source": [
    "products = [\"t-shirt\", \"mug\", \"hat\", \"book\", \"keychain\"]\n",
    "price_list = []"
   ]
  },
  {
   "cell_type": "code",
   "execution_count": 2,
   "id": "21cb9b7f-dc1d-4539-bf01-0f5af9c3130f",
   "metadata": {},
   "outputs": [],
   "source": [
    "def initialize_inventory(products):\n",
    "    global inventory\n",
    "    inventory = {product: int(input(f\"Enter the quantity of {product}s available: \")) for product in products}\n",
    "    get_customer_orders()"
   ]
  },
  {
   "cell_type": "code",
   "execution_count": 3,
   "id": "0e421432-81a6-4a76-b209-942cdfbb1123",
   "metadata": {},
   "outputs": [],
   "source": [
    "def get_customer_orders():\n",
    "    #Inside the function, implement the code for updating the inventory dictionary based on the customer orders.\n",
    "    global customer_orders\n",
    "    customer_orders = {input(f\"Which item would you like to order? Your options are {products}\"):1}\n",
    "    calculate_price(price_list)\n",
    "    print(f\"Items in your shopping cart: {customer_orders}\")\n",
    "    order = True\n",
    "    while order:\n",
    "        imp_order_more = input(f\"Which item would you like to order? Your options are {products} or FINISH.\")\n",
    "        if imp_order_more == \"FINISH\":\n",
    "            order = False\n",
    "        elif imp_order_more in customer_orders:\n",
    "            print(\"You've already ordered that.\")\n",
    "            print(f\"Items in your shopping cart: {customer_orders}\")\n",
    "        elif imp_order_more in products:\n",
    "            customer_orders[imp_order_more] = 1\n",
    "            calculate_price(price_list)\n",
    "            print(f\"Items in your shopping cart: {customer_orders}\")\n",
    "            update_inventory(customer_orders, inventory)\n",
    "        else:\n",
    "            print(\"Invalid entry, please choose from the available options.\")\n",
    "    print(f\"Order completed. Items in your shopping cart: {updated_inventory}\")\n",
    "    update_inventory(customer_orders, inventory)\n",
    "    calculate_order_statistics(customer_orders, products)"
   ]
  },
  {
   "cell_type": "code",
   "execution_count": 4,
   "id": "3bba7c6e-dd0a-4fd4-9e8d-adc4719d58c6",
   "metadata": {},
   "outputs": [],
   "source": [
    "#Modify the update_inventory function to remove the product from the inventory if its quantity becomes zero after fulfilling the customer orders. \n",
    "#Use comprehension to filter out the products with a quantity of zero from the inventory.\n",
    "\n",
    "def update_inventory(customer_orders, inventory):\n",
    "    # Update the inventory based on customer orders\n",
    "    global updated_inventory\n",
    "    updated_inventory = {item: max(0, inventory.get(item, 0) - (1 if item in customer_orders else 0)) for item in inventory}\n",
    "    updated_inventory = {item: count for item, count in updated_inventory.items() if count > 0}\n"
   ]
  },
  {
   "cell_type": "code",
   "execution_count": 5,
   "id": "f97dba49-a3b5-4bb3-994c-453335605c6f",
   "metadata": {},
   "outputs": [],
   "source": [
    "def calculate_order_statistics(customer_orders, products):\n",
    "    #return the order statistics (total products ordered, and percentage of unique products ordered)\n",
    "    global order_statistics\n",
    "    order_statistics = (len(customer_orders), len(customer_orders)/sum(inventory.values())*100)\n",
    "    print_order_statistics(order_statistics)\n",
    "\n",
    "def print_order_statistics(order_statistics):\n",
    "    print(\"Order Statistics:\")\n",
    "    print(f\"Total Products Ordered: {len(customer_orders)}\")\n",
    "    print(f\"Percentage of Products Ordered: {order_statistics}\")\n",
    "    print_updated_inventory(inventory)\n",
    "\n",
    "def print_updated_inventory(inventory):\n",
    "    # Inside the function implement the code for printing the updated inventory\n",
    "    print(f\"The updated inventory is: {updated_inventory}\")\n",
    "    print(f\"The total price of your oder is: {total_price}€\")\n",
    "    "
   ]
  },
  {
   "cell_type": "code",
   "execution_count": 6,
   "id": "1b502eee-2208-4429-b5f6-054f59aabbde",
   "metadata": {},
   "outputs": [],
   "source": [
    "#Add a new function to calculate the total price of the customer order. For each product in customer_orders, \n",
    "#prompt the user to enter the price of that product. \n",
    "#Use comprehension to calculate the total price. Note: assume that the user can only have 1 unit of each product.\n",
    "\n",
    "def calculate_price (price_list):\n",
    "    price_list.append(int(input(f\"Enter price: \")))\n",
    "    global total_price \n",
    "    total_price = sum(price_list)\n",
    "    return f\"The total price of your order is: {total_price}€\""
   ]
  },
  {
   "cell_type": "code",
   "execution_count": 15,
   "id": "96bafca2-2d79-4200-80ed-16a5e556e80c",
   "metadata": {},
   "outputs": [
    {
     "name": "stdin",
     "output_type": "stream",
     "text": [
      "Enter the quantity of t-shirts available:  1\n",
      "Enter the quantity of mugs available:  5\n",
      "Enter the quantity of hats available:  6\n",
      "Enter the quantity of books available:  1\n",
      "Enter the quantity of keychains available:  7\n",
      "Which item would you like to order? Your options are ['t-shirt', 'mug', 'hat', 'book', 'keychain'] book\n",
      "Enter price:  5\n"
     ]
    },
    {
     "name": "stdout",
     "output_type": "stream",
     "text": [
      "Items in your shopping cart: {'book': 1}\n"
     ]
    },
    {
     "name": "stdin",
     "output_type": "stream",
     "text": [
      "Which item would you like to order? Your options are ['t-shirt', 'mug', 'hat', 'book', 'keychain'] or FINISH. hat\n",
      "Enter price:  8\n"
     ]
    },
    {
     "name": "stdout",
     "output_type": "stream",
     "text": [
      "Items in your shopping cart: {'book': 1, 'hat': 1}\n"
     ]
    },
    {
     "name": "stdin",
     "output_type": "stream",
     "text": [
      "Which item would you like to order? Your options are ['t-shirt', 'mug', 'hat', 'book', 'keychain'] or FINISH. book\n"
     ]
    },
    {
     "name": "stdout",
     "output_type": "stream",
     "text": [
      "You've already ordered that.\n",
      "Items in your shopping cart: {'book': 1, 'hat': 1}\n"
     ]
    },
    {
     "name": "stdin",
     "output_type": "stream",
     "text": [
      "Which item would you like to order? Your options are ['t-shirt', 'mug', 'hat', 'book', 'keychain'] or FINISH. FINISH\n"
     ]
    },
    {
     "name": "stdout",
     "output_type": "stream",
     "text": [
      "Order completed. Items in your shopping cart: {'t-shirt': 1, 'mug': 5, 'hat': 5, 'keychain': 7}\n",
      "Order Statistics:\n",
      "Total Products Ordered: 2\n",
      "Percentage of Products Ordered: (2, 10.0)\n",
      "The updated inventory is: {'t-shirt': 1, 'mug': 5, 'hat': 5, 'keychain': 7}\n",
      "The total price of your oder is: 13€\n"
     ]
    }
   ],
   "source": [
    "initialize_inventory(products)"
   ]
  }
 ],
 "metadata": {
  "kernelspec": {
   "display_name": "Python 3 (ipykernel)",
   "language": "python",
   "name": "python3"
  },
  "language_info": {
   "codemirror_mode": {
    "name": "ipython",
    "version": 3
   },
   "file_extension": ".py",
   "mimetype": "text/x-python",
   "name": "python",
   "nbconvert_exporter": "python",
   "pygments_lexer": "ipython3",
   "version": "3.12.4"
  }
 },
 "nbformat": 4,
 "nbformat_minor": 5
}
